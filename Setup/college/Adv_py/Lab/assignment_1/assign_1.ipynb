{
 "cells": [
  {
   "cell_type": "markdown",
   "metadata": {},
   "source": [
    "#Assignment 1: Product Review from text file\n",
    "\n",
    "Consider a scenario where you are working as a data scientist for a large e-commerce company. Your\n",
    "team is responsible for analyzing customer feedback data, which is stored in multiple text files. Each\n",
    "text file contains customer reviews for different product categories. Your task is to write a Python\n",
    "script that performs the following operations:\n",
    "\n",
    "Read the contents of all the text files in a given directory.\n",
    "For each review, extract the following information:\n",
    " Customer ID (a 6-digit alphanumeric code)\n",
    " Product ID (a 10-digit alphanumeric code)\n",
    " Review date (in the format \"YYYY-MM-DD\")\n",
    " Review rating (an integer between 1 and 5)\n",
    " Review text (the actual feedback provided by the customer)\n",
    "Calculate the average review rating for each product and store it in a dictionary where the product ID\n",
    "is the key and the average rating is the value.\n",
    "Determine the top 3 products with the highest average review ratings.\n",
    "\n",
    "Create a new text file named \"summary.txt\" and write the following information into it:\n",
    " The total number of reviews processed.\n",
    " The total number of valid reviews (reviews with all required information extracted\n",
    "successfully).\n",
    " The total number of invalid reviews (reviews with missing or incorrect information).\n",
    " The product ID and average rating of the top 3 products with the highest average ratings.\n",
    "\n",
    "Your Python script should be robust, handling any potential errors or exceptions during the file\n",
    "handling process. Additionally, you should implement efficient algorithms to handle large volumes of\n",
    "data without consuming excessive memory or processing time.\n",
    "\n",
    "Write the Python script to achieve the above objectives and provide detailed comments explaining\n",
    "each step of your implementation."
   ]
  },
  {
   "cell_type": "code",
   "execution_count": null,
   "metadata": {},
   "outputs": [
    {
     "ename": "",
     "evalue": "",
     "output_type": "error",
     "traceback": [
      "\u001b[1;31mRunning cells with '/bin/python' requires the ipykernel package.\n",
      "\u001b[1;31mRun the following command to install 'ipykernel' into the Python environment. \n",
      "\u001b[1;31mCommand: '/bin/python -m pip install ipykernel -U --user --force-reinstall'"
     ]
    }
   ],
   "source": [
    "#importing Dependencies\n",
    "import os"
   ]
  },
  {
   "cell_type": "code",
   "execution_count": null,
   "metadata": {},
   "outputs": [],
   "source": [
    "# Function to extract review from reveiw files\n",
    "def extract(review):\n",
    "    cust_id = review[0].split(\":\")[1].strip()\n",
    "    prod_id = review[1].split(\":\")[1].strip()\n",
    "    re_date = review[2].split(\":\")[1].strip()\n",
    "    re_rate = review[3].split(\":\")[1].strip()\n",
    "    return cust_id, prod_id, re_date,re_rate"
   ]
  },
  {
   "cell_type": "code",
   "execution_count": null,
   "metadata": {},
   "outputs": [],
   "source": [
    "# Function to read and extract review information\n",
    "def review(file_path):\n",
    "    with open(file_path, \"r\") as fr:\n",
    "        lines = fr.readlines()\n",
    "        if len(lines) >= 4:\n",
    "            return review(lines[:4])\n",
    "        return None"
   ]
  },
  {
   "cell_type": "code",
   "execution_count": null,
   "metadata": {},
   "outputs": [],
   "source": [
    "# Function to process reviews in a directory\n",
    "def process_reviews(directory):\n",
    "    total_reviews = 0\n",
    "    valid_reviews = 0\n",
    "    invalid_reviews = 0\n",
    "    prod_rate = {}\n",
    "\n",
    "    # Process each file in the directory\n",
    "    for filename in os.listdir(directory):\n",
    "        if filename.endswith(\".txt\"):\n",
    "            review_info = review(os.path.join(directory, filename))\n",
    "            if review_info:\n",
    "                cust_id, prod_id, _, re_rate = review_info\n",
    "                \n",
    "                # Update product ratings\n",
    "                if prod_id in prod_rate:\n",
    "                    prod_rate[prod_id].append(re_rate)\n",
    "                else:\n",
    "                    prod_rate[prod_id] = [re_rate]\n",
    "\n",
    "                valid_reviews += 1\n",
    "            else:\n",
    "                invalid_reviews += 1\n",
    "\n",
    "            total_reviews += 1\n",
    "\n",
    "        return total_reviews, valid_reviews, invalid_reviews , prod_rate"
   ]
  },
  {
   "cell_type": "code",
   "execution_count": null,
   "metadata": {},
   "outputs": [],
   "source": [
    "# Function to calculate Average rating for products\n",
    "def calculate(prod_rate):\n",
    "    return{prod_id: sum(ratings) / len(rating) for prod_id, ratings in prod_rate.items()}\n"
   ]
  },
  {
   "cell_type": "code",
   "execution_count": null,
   "metadata": {},
   "outputs": [],
   "source": [
    "# determine top 3 \n",
    "def determine_top3(avg_rate):\n",
    "    return sorted(avg_rate.items(), key=lambda item: item[1], reverse=True)[:3]"
   ]
  },
  {
   "cell_type": "markdown",
   "metadata": {},
   "source": []
  },
  {
   "cell_type": "code",
   "execution_count": null,
   "metadata": {},
   "outputs": [],
   "source": [
    "# Function to write summary information to a file\n",
    "def write_summary(total_reviews, valid_reviews, invalid_reviews, top_products):\n",
    "    with open(\"summary.txt\", \"w\") as summary_file:\n",
    "        summary_file.write(\"Total Reviews Processed: {}\\n\".format(total_reviews))\n",
    "        summary_file.write(\"Total Valid Reviews: {}\\n\".format(valid_reviews))\n",
    "        summary_file.write(\"Total Invalid Reviews: {}\\n\".format(invalid_reviews))\n",
    "        summary_file.write(\"\\nTop 3 Products with Highest Average Ratings:\\n\")\n",
    "        for product_id, avg_rating in top_products:\n",
    "            summary_file.write(\"Product ID: {}, Average Rating: {}\\n\".format(prod_id, avg_rate))\n"
   ]
  },
  {
   "cell_type": "code",
   "execution_count": null,
   "metadata": {},
   "outputs": [],
   "source": [
    "# Specify the directory containing review files\n",
    "reviews_directory = \"/path/to/reviews\"\n"
   ]
  },
  {
   "cell_type": "code",
   "execution_count": null,
   "metadata": {},
   "outputs": [],
   "source": [
    "\n",
    "# Call the functions to process reviews and generate summary\n",
    "total, valid, invalid, ratings = process_reviews(reviews_directory)\n",
    "average_ratings = calculate_average_ratings(ratings)\n",
    "top_products = determine_top_products(average_ratings)\n",
    "write_summary(total, valid, invalid, top_products)\n"
   ]
  }
 ],
 "metadata": {
  "kernelspec": {
   "display_name": "Python 3",
   "language": "python",
   "name": "python3"
  },
  "language_info": {
   "name": "python",
   "version": "3.10.12"
  },
  "orig_nbformat": 4
 },
 "nbformat": 4,
 "nbformat_minor": 2
}
